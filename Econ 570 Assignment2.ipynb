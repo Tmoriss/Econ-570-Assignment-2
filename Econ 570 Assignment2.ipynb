{
 "cells": [
  {
   "cell_type": "markdown",
   "id": "d6f7c942",
   "metadata": {},
   "source": [
    "#  Econ 570 Assignment 2 By Thomas Morissette"
   ]
  },
  {
   "cell_type": "markdown",
   "id": "613ea221",
   "metadata": {},
   "source": [
    "In This assignment I will be choosing the first three settings given by the instructor, namely:\n",
    "\n",
    "1. Simulate a DGP where the outcome of interest depends on a randomly assigned treatment and some observed covariates.\n",
    "\n",
    "     a. You do not control for any covariates\n",
    " \n",
    "     b. You control for all the covariates that affect the outcome\n",
    " \n",
    "    \n",
    "2. Simulate a DGP with a confounder (common cause)\n",
    "\n",
    "    a. You fail to control for the confounder\n",
    "\n",
    "    b. You do control for the confounder\n",
    "    \n",
    "\n",
    "3. Simulate a DGP with selection bias into the treatment (variable in between the path from the\n",
    "treatment to the outcome)\n",
    "\n",
    "\n",
    "   a. You control for the variable in between the path from cause to effect\n",
    "\n",
    "   b. You do not control for the variable in between the path from cause to effect"
   ]
  },
  {
   "cell_type": "markdown",
   "id": "884a3511",
   "metadata": {},
   "source": [
    "### 1.Simulate a DGP where the outcome of interest depends on a randomly assigned treatment and some observed covariates.\n"
   ]
  },
  {
   "cell_type": "code",
   "execution_count": 1,
   "id": "e9f072b4",
   "metadata": {},
   "outputs": [],
   "source": [
    "import os\n",
    "import pandas as pd\n",
    "import numpy as np\n",
    "import random\n",
    "import graphviz as gr\n",
    "import statsmodels.api as sm\n",
    "import matplotlib.pyplot as plt\n",
    "import networkx as nx\n",
    "\n",
    "\n",
    "\n",
    "\n"
   ]
  },
  {
   "cell_type": "markdown",
   "id": "86131ecb",
   "metadata": {},
   "source": [
    "   The first model is one of a regular treatment effect model with covariates but without a confounder variable as well as a Directed Acryllic Graph of the model where:\n",
    "   \n",
    "   - Y is the outcome variable\n",
    "   - T is the treatment variable\n",
    "   - X are the covariates\n",
    "    \n",
    "\n"
   ]
  },
  {
   "attachments": {
    "Model1.png": {
     "image/png": "[encoded data removed]"
    }
   },
   "cell_type": "markdown",
   "id": "507f9b62",
   "metadata": {},
   "source": [
    "![Model1.png](attachment:Model1.png)"
   ]
  },
  {
   "cell_type": "code",
   "execution_count": 20,
   "id": "61dc4813",
   "metadata": {},
   "outputs": [
    {
     "data": {
      "image/png": "[encoded data removed]",
      "text/plain": [
       "<Figure size 432x288 with 1 Axes>"
      ]
     },
     "metadata": {},
     "output_type": "display_data"
    }
   ],
   "source": [
    "G = nx.DiGraph()\n",
    "    \n",
    "G.add_node('d1', desc='Y')\n",
    "G.add_node('d2', desc='T')\n",
    "G.add_node('d3', desc='X')\n",
    "G.add_edge('d2','d1')\n",
    "G.add_edge('d3','d1')\n",
    "    \n",
    "pos = nx.spring_layout(G)\n",
    "nx.draw(G, pos )\n",
    "node_labels = nx.get_node_attributes(G, 'desc')\n",
    "nx.draw_networkx_labels(G, pos, labels=node_labels)\n",
    "plt.show()\n"
   ]
  },
  {
   "cell_type": "markdown",
   "id": "cb8d2822",
   "metadata": {},
   "source": [
    "First we must simulate a random data generating process and store the generated data in a csv file that will be appended to this assignment. "
   ]
  },
  {
   "cell_type": "code",
   "execution_count": 74,
   "id": "48d7e5fb",
   "metadata": {},
   "outputs": [],
   "source": [
    "np.random.seed(300)\n",
    "n = 1000\n",
    "T = np.random.binomial(1, 0.5, n)\n",
    "X = np.random.normal(1,5,n)\n",
    "Y = np.random.normal(1 + 1*T + 1*X, 5).astype(int)\n",
    "covariates = pd.DataFrame(dict(T = T,\n",
    "                            X = X,\n",
    "                            Y = Y))\n",
    "covariates.columns=[\"Treatment\",\"Output\",\"Covariate\"]\n",
    "covariates.to_csv(\"Covariates.csv\", index=False)"
   ]
  },
  {
   "cell_type": "markdown",
   "id": "305cd5be",
   "metadata": {},
   "source": [
    "We must now run two seperate Monte Carlo Simulations For the instances where:\n",
    "\n",
    "- The covariates are not controlled \n",
    "- The covariates are controlled\n",
    "\n",
    "This monte carlo simulation program will be used in all three portions of this assignment. "
   ]
  },
  {
   "cell_type": "markdown",
   "id": "82e42c42",
   "metadata": {},
   "source": [
    "## 1a. The Covariates are not being controlled"
   ]
  },
  {
   "cell_type": "code",
   "execution_count": 120,
   "id": "f91a674a",
   "metadata": {},
   "outputs": [],
   "source": [
    "class MC_Simulator_1a():\n",
    "    \n",
    "    def __init__(self,n_rep):\n",
    "        \"\"\"\n",
    "        n_rep: number of MC replications\n",
    "        \"\"\"\n",
    "        self.n_rep = n_rep\n",
    "    def simulate_data(self, B1, B2, n,sigma):\n",
    "        \"\"\"\n",
    "        B1: intercept\n",
    "        B2: slope of treatment dummy variable\n",
    "        n: sample size\n",
    "        sigma: error variance\n",
    "        Y = a+b*T+e\n",
    "        \"\"\"\n",
    "        X = np.random.normal(1,5,n)\n",
    "        T = np.random.binomial(1, 0.5, n)\n",
    "        Y = np.random.normal(B1 + B2*T + 1*X, 5).astype(int)\n",
    "        \n",
    "        return (Y,T)    \n",
    "    \n",
    "    def estimate_ols_params(self,Y,T):\n",
    "        mod = sm.OLS(Y,sm.add_constant(T))\n",
    "        res = mod.fit()\n",
    "        \n",
    "        return res.params\n",
    "    \n",
    "    def Monte_Sim(self,B1,B2,n,sigma):\n",
    "        \n",
    "        treatment_effect = []\n",
    "        bias = []\n",
    "        RMSE = []\n",
    "        for rep in range(self.n_rep):\n",
    "            Y,T = self.simulate_data(B1,B2,n,sigma)\n",
    "            B1_hat,B2_hat = self.estimate_ols_params(Y,T)\n",
    "            y_hat = B1_hat + B2_hat * T\n",
    "            treatment_effect = treatment_effect + [B2_hat]\n",
    "            bias = bias + [np.mean(Y[T==1])-np.mean(Y[T==0])]\n",
    "            RMSE = RMSE + [np.sqrt(np.mean((Y-y_hat)**2))]\n",
    "        return bias, RMSE, treatment_effect\n",
    "    \n",
    "    def summarize_mc_simulation(self,B1,B2,n,sigma):\n",
    "        bias, RMSE, treatment_effect = self.Monte_Sim(B1,B2,n,sigma)\n",
    "        return [np.mean(bias),np.mean(RMSE),np.mean(treatment_effect)]\n"
   ]
  },
  {
   "cell_type": "code",
   "execution_count": 121,
   "id": "0807e485",
   "metadata": {},
   "outputs": [
    {
     "data": {
      "text/html": [
       "<div>\n",
       "<style scoped>\n",
       "    .dataframe tbody tr th:only-of-type {\n",
       "        vertical-align: middle;\n",
       "    }\n",
       "\n",
       "    .dataframe tbody tr th {\n",
       "        vertical-align: top;\n",
       "    }\n",
       "\n",
       "    .dataframe thead tr th {\n",
       "        text-align: left;\n",
       "    }\n",
       "</style>\n",
       "<table border=\"1\" class=\"dataframe\">\n",
       "  <thead>\n",
       "    <tr>\n",
       "      <th></th>\n",
       "      <th>N=100</th>\n",
       "      <th>N=1000</th>\n",
       "    </tr>\n",
       "  </thead>\n",
       "  <tbody>\n",
       "    <tr>\n",
       "      <th>bias</th>\n",
       "      <td>0.940061</td>\n",
       "      <td>0.949610</td>\n",
       "    </tr>\n",
       "    <tr>\n",
       "      <th>RMSE</th>\n",
       "      <td>6.622067</td>\n",
       "      <td>6.701354</td>\n",
       "    </tr>\n",
       "    <tr>\n",
       "      <th>treatment effect</th>\n",
       "      <td>0.940061</td>\n",
       "      <td>0.949610</td>\n",
       "    </tr>\n",
       "  </tbody>\n",
       "</table>\n",
       "</div>"
      ],
      "text/plain": [
       "                     N=100    N=1000\n",
       "bias              0.940061  0.949610\n",
       "RMSE              6.622067  6.701354\n",
       "treatment effect  0.940061  0.949610"
      ]
     },
     "execution_count": 121,
     "metadata": {},
     "output_type": "execute_result"
    }
   ],
   "source": [
    "N_100 = MC_Simulator_1a(10000)\n",
    "res_100 = N_100.summarize_mc_simulation(1,1,100,1)\n",
    "N_1000 = MC_Simulator_1a(10000)\n",
    "res_1000 = N_1000.summarize_mc_simulation(1,1,1000,1)\n",
    "res = pd.concat([pd.Series(res_100),pd.Series(res_1000)],axis = 1)\n",
    "res.columns = [['N=100','N=1000']]\n",
    "res.index = [['bias','RMSE','treatment effect']]\n",
    "res"
   ]
  },
  {
   "cell_type": "markdown",
   "id": "f884bd26",
   "metadata": {},
   "source": [
    "## 1b. The covariates are being controlled \n",
    "\n",
    "The only difference is the inclusion of the X covariate variable in the simulation of the data and the estimation of the OLS parameters. "
   ]
  },
  {
   "cell_type": "code",
   "execution_count": 115,
   "id": "fb274295",
   "metadata": {},
   "outputs": [],
   "source": [
    "class MC_Simulator_1b():\n",
    "    \n",
    "    def __init__(self,n_rep):\n",
    "        \"\"\"\n",
    "        n_rep: number of MC replications\n",
    "        \"\"\"\n",
    "        self.n_rep = n_rep\n",
    "    def simulate_data(self, B1,B2,B3, n,sigma):\n",
    "        \"\"\"\n",
    "        a: intercept\n",
    "        b: slope of treatment dummy variable\n",
    "        n: sample size\n",
    "        sigma: error variance\n",
    "        Y = a+b*T+e\n",
    "        \"\"\"\n",
    "        X = np.random.normal(1,5,n)\n",
    "        T = np.random.binomial(1, 0.5, n)\n",
    "        Y = np.random.normal(B1 + B2*T + B3*X, 5).astype(int)\n",
    "        \n",
    "        return (Y,T,X)    \n",
    "    \n",
    "    def estimate_ols_params(self,Y,T,X):\n",
    "        mod = sm.OLS(Y,sm.add_constant(pd.concat([pd.Series(T),pd.Series(X)],axis=1)))\n",
    "        res = mod.fit()\n",
    "        \n",
    "        return res.params\n",
    "    \n",
    "    def Monte_Sim(self,B1,B2,B3,n,sigma):\n",
    "        \n",
    "        treatment_effect = []\n",
    "        bias = []\n",
    "        RMSE = []\n",
    "        for rep in range(self.n_rep):\n",
    "            Y,T,X = self.simulate_data(B1,B2,B3,n,sigma)\n",
    "            B1_hat,B2_hat,B3_hat = self.estimate_ols_params(Y,T,X)\n",
    "            y_hat = B1_hat + B2_hat * T + B3_hat*X\n",
    "            treatment_effect = treatment_effect + [B2_hat]\n",
    "            bias = bias + [np.mean(Y[T==1])-np.mean(Y[T==0])]\n",
    "            RMSE = RMSE + [np.sqrt(np.mean((Y-y_hat)**2))]\n",
    "        return bias, RMSE, treatment_effect\n",
    "    \n",
    "    def summarize_mc_simulation(self,B1,B2,B3,n,sigma):\n",
    "        bias, RMSE, treatment_effect = self.Monte_Sim(B1,B2,B3,n,sigma)\n",
    "        return [np.mean(bias),np.mean(RMSE),np.mean(treatment_effect)]"
   ]
  },
  {
   "cell_type": "code",
   "execution_count": 117,
   "id": "ab6079af",
   "metadata": {},
   "outputs": [
    {
     "name": "stderr",
     "output_type": "stream",
     "text": [
      "/opt/anaconda3/lib/python3.9/site-packages/statsmodels/tsa/tsatools.py:142: FutureWarning: In a future version of pandas all arguments of concat except for the argument 'objs' will be keyword-only\n",
      "  x = pd.concat(x[::order], 1)\n"
     ]
    },
    {
     "data": {
      "text/html": [
       "<div>\n",
       "<style scoped>\n",
       "    .dataframe tbody tr th:only-of-type {\n",
       "        vertical-align: middle;\n",
       "    }\n",
       "\n",
       "    .dataframe tbody tr th {\n",
       "        vertical-align: top;\n",
       "    }\n",
       "\n",
       "    .dataframe thead tr th {\n",
       "        text-align: left;\n",
       "    }\n",
       "</style>\n",
       "<table border=\"1\" class=\"dataframe\">\n",
       "  <thead>\n",
       "    <tr>\n",
       "      <th></th>\n",
       "      <th>N=100</th>\n",
       "      <th>N=1000</th>\n",
       "    </tr>\n",
       "  </thead>\n",
       "  <tbody>\n",
       "    <tr>\n",
       "      <th>bias</th>\n",
       "      <td>0.948974</td>\n",
       "      <td>0.949669</td>\n",
       "    </tr>\n",
       "    <tr>\n",
       "      <th>RMSE</th>\n",
       "      <td>4.670185</td>\n",
       "      <td>4.743184</td>\n",
       "    </tr>\n",
       "    <tr>\n",
       "      <th>treatment effect</th>\n",
       "      <td>0.950913</td>\n",
       "      <td>0.949561</td>\n",
       "    </tr>\n",
       "  </tbody>\n",
       "</table>\n",
       "</div>"
      ],
      "text/plain": [
       "                     N=100    N=1000\n",
       "bias              0.948974  0.949669\n",
       "RMSE              4.670185  4.743184\n",
       "treatment effect  0.950913  0.949561"
      ]
     },
     "execution_count": 117,
     "metadata": {},
     "output_type": "execute_result"
    }
   ],
   "source": [
    "N_100 = MC_Simulator_1b(10000)\n",
    "res_100 = N_100.summarize_mc_simulation(1,1,1,100,1)\n",
    "N_1000 = MC_Simulator_1b(10000)\n",
    "res_1000 = N_1000.summarize_mc_simulation(1,1,1,1000,1)\n",
    "res = pd.concat([pd.Series(res_100),pd.Series(res_1000)],axis = 1)\n",
    "res.columns = [['N=100','N=1000']]\n",
    "res.index = [['bias','RMSE','treatment effect']]\n",
    "res"
   ]
  },
  {
   "cell_type": "markdown",
   "id": "760f92b4",
   "metadata": {},
   "source": [
    "There aremany real world situations in  which this model would be applicable such as:\n",
    "\n",
    "- Y is Amount spent on Healthcare\n",
    "- X is Age\n",
    "- T is Provision of health insurance"
   ]
  },
  {
   "cell_type": "markdown",
   "id": "d7c43cc0",
   "metadata": {},
   "source": [
    "## 2. Simulate a DGP with a confounder"
   ]
  },
  {
   "cell_type": "markdown",
   "id": "e5a25070",
   "metadata": {},
   "source": [
    "Following the same process we generate random variables using the same funciton"
   ]
  },
  {
   "cell_type": "code",
   "execution_count": 98,
   "id": "9f707ca2",
   "metadata": {},
   "outputs": [],
   "source": [
    "\n",
    "np.random.seed(300)\n",
    "n = 1000\n",
    "T = np.random.binomial(1, 1/(1+X**2), n)\n",
    "X = np.random.normal(1,5,n)\n",
    "Y = np.random.normal(1 + 1*T + 1*X, 5).astype(int)\n",
    "confounder = pd.DataFrame(dict(T = T,\n",
    "                            X = X,\n",
    "                            Y = Y))\n",
    "confounder.columns=[\"Treatment\",\"Output\",\"Covariate\"]\n",
    "confounder.to_csv(\"Confounder.csv\", index=False)"
   ]
  },
  {
   "cell_type": "markdown",
   "id": "b1cd0b0c",
   "metadata": {},
   "source": [
    "Below is the DAG for the model with a confounder variable"
   ]
  },
  {
   "cell_type": "code",
   "execution_count": 78,
   "id": "430a48ac",
   "metadata": {},
   "outputs": [
    {
     "data": {
      "image/png": "[encoded data removed]",
      "text/plain": [
       "<Figure size 432x288 with 1 Axes>"
      ]
     },
     "metadata": {},
     "output_type": "display_data"
    }
   ],
   "source": [
    "G = nx.DiGraph()\n",
    "    \n",
    "G.add_node('d1', desc='Y')\n",
    "G.add_node('d2', desc='T')\n",
    "G.add_node('d3', desc='X')\n",
    "G.add_edge('d2','d1')\n",
    "G.add_edge('d3','d1')\n",
    "G.add_edge('d3','d2')\n",
    "    \n",
    "pos = nx.spring_layout(G)\n",
    "nx.draw(G, pos )\n",
    "node_labels = nx.get_node_attributes(G, 'desc')\n",
    "nx.draw_networkx_labels(G, pos, labels=node_labels)\n",
    "plt.show()"
   ]
  },
  {
   "cell_type": "markdown",
   "id": "76b86ebc",
   "metadata": {},
   "source": [
    "# Monte Carlo  Simulations"
   ]
  },
  {
   "cell_type": "markdown",
   "id": "92d01179",
   "metadata": {},
   "source": [
    "## 2a. Failing to Control for confounder"
   ]
  },
  {
   "cell_type": "code",
   "execution_count": 79,
   "id": "f75febb6",
   "metadata": {},
   "outputs": [],
   "source": [
    "class MC_Simulator_2a():\n",
    "    \n",
    "    def __init__(self,n_rep):\n",
    "        \"\"\"\n",
    "        n_rep: number of MC replications\n",
    "        \"\"\"\n",
    "        self.n_rep = n_rep\n",
    "    def simulate_data(self, B1, B2, n,sigma):\n",
    "        \"\"\"\n",
    "        B1: intercept\n",
    "        B2: slope of treatment dummy variable\n",
    "        n: sample size\n",
    "        sigma: error variance\n",
    "        Y = a+b*T+e\n",
    "        \"\"\"\n",
    "        X = np.random.normal(1,5,n)\n",
    "        T = np.random.binomial(1, 1/(1+X**2), n)\n",
    "        Y = np.random.normal(B1 + B2*T + 1*X, 5).astype(int)\n",
    "        \n",
    "        return (Y,T)    \n",
    "    \n",
    "    def estimate_ols_params(self,Y,T):\n",
    "        mod = sm.OLS(Y,sm.add_constant(T))\n",
    "        res = mod.fit()\n",
    "        \n",
    "        return res.params\n",
    "    \n",
    "    def Monte_Sim(self,B1,B2,n,sigma):\n",
    "        \n",
    "        treatment_effect = []\n",
    "        bias = []\n",
    "        RMSE = []\n",
    "        for rep in range(self.n_rep):\n",
    "            Y,T = self.simulate_data(B1,B2,n,sigma)\n",
    "            B1_hat,B2_hat = self.estimate_ols_params(Y,T)\n",
    "            y_hat = B1_hat + B2_hat * T\n",
    "            treatment_effect = treatment_effect + [B2_hat]\n",
    "            bias = bias + [np.mean(Y[T==1])-np.mean(Y[T==0])]\n",
    "            RMSE = RMSE + [np.sqrt(np.mean((Y-y_hat)**2))]\n",
    "        return bias, RMSE, treatment_effect\n",
    "    \n",
    "    def summarize_mc_simulation(self,B1,B2,n,sigma):\n",
    "        bias, RMSE, treatment_effect = self.Monte_Sim(B1,B2,n,sigma)\n",
    "        return [np.mean(bias),np.mean(RMSE),np.mean(treatment_effect)]\n",
    "\n"
   ]
  },
  {
   "cell_type": "code",
   "execution_count": 80,
   "id": "6abcb87e",
   "metadata": {},
   "outputs": [
    {
     "data": {
      "text/html": [
       "<div>\n",
       "<style scoped>\n",
       "    .dataframe tbody tr th:only-of-type {\n",
       "        vertical-align: middle;\n",
       "    }\n",
       "\n",
       "    .dataframe tbody tr th {\n",
       "        vertical-align: top;\n",
       "    }\n",
       "\n",
       "    .dataframe thead tr th {\n",
       "        text-align: left;\n",
       "    }\n",
       "</style>\n",
       "<table border=\"1\" class=\"dataframe\">\n",
       "  <thead>\n",
       "    <tr>\n",
       "      <th></th>\n",
       "      <th>N=100</th>\n",
       "      <th>N=1000</th>\n",
       "    </tr>\n",
       "  </thead>\n",
       "  <tbody>\n",
       "    <tr>\n",
       "      <th>bias</th>\n",
       "      <td>-0.117631</td>\n",
       "      <td>-0.121096</td>\n",
       "    </tr>\n",
       "    <tr>\n",
       "      <th>RMSE</th>\n",
       "      <td>6.613273</td>\n",
       "      <td>6.682007</td>\n",
       "    </tr>\n",
       "    <tr>\n",
       "      <th>treatment effect</th>\n",
       "      <td>-0.117631</td>\n",
       "      <td>-0.121096</td>\n",
       "    </tr>\n",
       "  </tbody>\n",
       "</table>\n",
       "</div>"
      ],
      "text/plain": [
       "                     N=100    N=1000\n",
       "bias             -0.117631 -0.121096\n",
       "RMSE              6.613273  6.682007\n",
       "treatment effect -0.117631 -0.121096"
      ]
     },
     "execution_count": 80,
     "metadata": {},
     "output_type": "execute_result"
    }
   ],
   "source": [
    "\n",
    "N_100 = MC_Simulator_2a(10000)\n",
    "res_100 = N_100.summarize_mc_simulation(1,1,100,1)\n",
    "N_1000 = MC_Simulator_2a(10000)\n",
    "res_1000 = N_1000.summarize_mc_simulation(1,1,1000,1)\n",
    "res = pd.concat([pd.Series(res_100),pd.Series(res_1000)],axis = 1)\n",
    "res.columns = [['N=100','N=1000']]\n",
    "res.index = [['bias','RMSE','treatment effect']]\n",
    "res"
   ]
  },
  {
   "cell_type": "markdown",
   "id": "ef81c6cb",
   "metadata": {},
   "source": [
    "## 2b. Controlling for Confounder"
   ]
  },
  {
   "cell_type": "code",
   "execution_count": 94,
   "id": "bd9aa70f",
   "metadata": {},
   "outputs": [],
   "source": [
    "class MC_Simulator_2b():\n",
    "    \n",
    "    def __init__(self,n_rep):\n",
    "        \"\"\"\n",
    "        n_rep: number of MC replications\n",
    "        \"\"\"\n",
    "        self.n_rep = n_rep\n",
    "    def simulate_data(self, B1,B2,B3, n,sigma):\n",
    "        \"\"\"\n",
    "        a: intercept\n",
    "        b: slope of treatment dummy variable\n",
    "        n: sample size\n",
    "        sigma: error variance\n",
    "        Y = a+b*T+e\n",
    "        \"\"\"\n",
    "        X = np.random.normal(1,5,n)\n",
    "        T = np.random.binomial(1, 1/(1+X**2), n)\n",
    "        Y = np.random.normal(B1 + B2*T + B3*X, 5).astype(int)\n",
    "        \n",
    "        return (Y,T,X)    \n",
    "    \n",
    "    def estimate_ols_params(self,Y,T,X):\n",
    "        mod = sm.OLS(Y,sm.add_constant(pd.concat([pd.Series(T),pd.Series(X)],axis=1)))\n",
    "        res = mod.fit()\n",
    "        \n",
    "        return res.params\n",
    "    \n",
    "    def Monte_Sim(self,B1,B2,B3,n,sigma):\n",
    "        \n",
    "        treatment_effect = []\n",
    "        bias = []\n",
    "        RMSE = []\n",
    "        for rep in range(self.n_rep):\n",
    "            Y,T,X = self.simulate_data(B1,B2,B3,n,sigma)\n",
    "            B1_hat,B2_hat,B3_hat = self.estimate_ols_params(Y,T,X)\n",
    "            y_hat = B1_hat + B2_hat * T + B3_hat*X\n",
    "            treatment_effect = treatment_effect + [B2_hat]\n",
    "            bias = bias + [np.mean(Y[T==1])-np.mean(Y[T==0])]\n",
    "            RMSE = RMSE + [np.sqrt(np.mean((Y-y_hat)**2))]\n",
    "        return bias, RMSE, treatment_effect\n",
    "    \n",
    "    def summarize_mc_simulation(self,B1,B2,B3,n,sigma):\n",
    "        bias, RMSE, treatment_effect = self.Monte_Sim(B1,B2,B3,n,sigma)\n",
    "        return [np.mean(bias),np.mean(RMSE),np.mean(treatment_effect)]"
   ]
  },
  {
   "cell_type": "code",
   "execution_count": 95,
   "id": "0116cbd5",
   "metadata": {},
   "outputs": [
    {
     "name": "stderr",
     "output_type": "stream",
     "text": [
      "/opt/anaconda3/lib/python3.9/site-packages/statsmodels/tsa/tsatools.py:142: FutureWarning: In a future version of pandas all arguments of concat except for the argument 'objs' will be keyword-only\n",
      "  x = pd.concat(x[::order], 1)\n"
     ]
    },
    {
     "data": {
      "text/html": [
       "<div>\n",
       "<style scoped>\n",
       "    .dataframe tbody tr th:only-of-type {\n",
       "        vertical-align: middle;\n",
       "    }\n",
       "\n",
       "    .dataframe tbody tr th {\n",
       "        vertical-align: top;\n",
       "    }\n",
       "\n",
       "    .dataframe thead tr th {\n",
       "        text-align: left;\n",
       "    }\n",
       "</style>\n",
       "<table border=\"1\" class=\"dataframe\">\n",
       "  <thead>\n",
       "    <tr>\n",
       "      <th></th>\n",
       "      <th>N=100</th>\n",
       "      <th>N=1000</th>\n",
       "    </tr>\n",
       "  </thead>\n",
       "  <tbody>\n",
       "    <tr>\n",
       "      <th>bias</th>\n",
       "      <td>-0.123071</td>\n",
       "      <td>-0.117119</td>\n",
       "    </tr>\n",
       "    <tr>\n",
       "      <th>RMSE</th>\n",
       "      <td>4.660412</td>\n",
       "      <td>4.742446</td>\n",
       "    </tr>\n",
       "    <tr>\n",
       "      <th>treatment effect</th>\n",
       "      <td>0.904285</td>\n",
       "      <td>0.904057</td>\n",
       "    </tr>\n",
       "  </tbody>\n",
       "</table>\n",
       "</div>"
      ],
      "text/plain": [
       "                     N=100    N=1000\n",
       "bias             -0.123071 -0.117119\n",
       "RMSE              4.660412  4.742446\n",
       "treatment effect  0.904285  0.904057"
      ]
     },
     "execution_count": 95,
     "metadata": {},
     "output_type": "execute_result"
    }
   ],
   "source": [
    "N_100 = MC_Simulator_2b(10000)\n",
    "res_100 = N_100.summarize_mc_simulation(1,1,1,100,1)\n",
    "N_1000 = MC_Simulator_2b(10000)\n",
    "res_1000 = N_1000.summarize_mc_simulation(1,1,1,1000,1)\n",
    "res = pd.concat([pd.Series(res_100),pd.Series(res_1000)],axis = 1)\n",
    "res.columns = [['N=100','N=1000']]\n",
    "res.index = [['bias','RMSE','treatment effect']]\n",
    "res"
   ]
  },
  {
   "cell_type": "markdown",
   "id": "b2892c21",
   "metadata": {},
   "source": [
    "An Example of the confounding effect could be the following:\n",
    "\n",
    "- X is age\n",
    "- T is Physical Activity\n",
    "- Y is General Health\n",
    "\n",
    "Age impacts both the general healthh of the person as well as their ability to perform physical activities. "
   ]
  },
  {
   "cell_type": "markdown",
   "id": "c387bba4",
   "metadata": {},
   "source": [
    "#  3. Simulate a DGP with selection bias into the treatment (variable in between the path from the treatment to the outcome)\n"
   ]
  },
  {
   "cell_type": "markdown",
   "id": "02b6e8ef",
   "metadata": {},
   "source": [
    "Once again we will simulate a GDP for selection bias:"
   ]
  },
  {
   "cell_type": "code",
   "execution_count": 99,
   "id": "d0d0292b",
   "metadata": {},
   "outputs": [],
   "source": [
    "np.random.seed(300)\n",
    "n = 1000\n",
    "T = np.random.binomial(1,0.5, n)\n",
    "X = np.random.normal(1+ np.mean(T)*np.mean(Y),5,n)\n",
    "Y = np.random.normal(1 + 1*T, 5).astype(int)\n",
    "confounder = pd.DataFrame(dict(T = T,\n",
    "                            X = X,\n",
    "                            Y = Y))\n",
    "confounder.columns=[\"Treatment\",\"Output\",\"Covariate\"]\n",
    "confounder.to_csv(\"Selection.csv\", index=False)"
   ]
  },
  {
   "cell_type": "markdown",
   "id": "d628ac7f",
   "metadata": {},
   "source": [
    "The Selection Bias DAG is Illustrated Thusly:"
   ]
  },
  {
   "cell_type": "code",
   "execution_count": 100,
   "id": "40810e63",
   "metadata": {},
   "outputs": [
    {
     "data": {
      "image/png": "[encoded data removed]",
      "text/plain": [
       "<Figure size 432x288 with 1 Axes>"
      ]
     },
     "metadata": {},
     "output_type": "display_data"
    }
   ],
   "source": [
    "G = nx.DiGraph()\n",
    "    \n",
    "G.add_node('d1', desc='Y')\n",
    "G.add_node('d2', desc='T')\n",
    "G.add_node('d3', desc='X')\n",
    "G.add_edge('d2','d1')\n",
    "G.add_edge('d1','d3')\n",
    "G.add_edge('d2','d3')\n",
    "    \n",
    "pos = nx.spring_layout(G)\n",
    "nx.draw(G, pos )\n",
    "node_labels = nx.get_node_attributes(G, 'desc')\n",
    "nx.draw_networkx_labels(G, pos, labels=node_labels)\n",
    "plt.show()"
   ]
  },
  {
   "cell_type": "markdown",
   "id": "473d5de0",
   "metadata": {},
   "source": [
    "# Monte Carlo Simulations"
   ]
  },
  {
   "cell_type": "markdown",
   "id": "e2f8633d",
   "metadata": {},
   "source": [
    "## 3a.  You control for the variable in between the path from cause to effect"
   ]
  },
  {
   "cell_type": "code",
   "execution_count": 109,
   "id": "cd1ec6dd",
   "metadata": {},
   "outputs": [],
   "source": [
    "class MC_Simulator_3a():\n",
    "    \n",
    "    def __init__(self,n_rep):\n",
    "        \"\"\"\n",
    "        n_rep: number of MC replications\n",
    "        \"\"\"\n",
    "        self.n_rep = n_rep\n",
    "    def simulate_data(self, B1,B2,B3, n,sigma):\n",
    "        \"\"\"\n",
    "        a: intercept\n",
    "        b: slope of treatment dummy variable\n",
    "        n: sample size\n",
    "        sigma: error variance\n",
    "        Y = a+b*T+e\n",
    "        \"\"\"\n",
    "        T = np.random.binomial(1, 0.5, n)\n",
    "        Y = np.random.normal(1 + 1*T, 5).astype(int)\n",
    "        X = np.random.normal(1+ np.mean(T)*np.mean(Y),5,n)\n",
    "       \n",
    "        \n",
    "        return (Y,T,X)    \n",
    "    \n",
    "    def estimate_ols_params(self,Y,T,X):\n",
    "        mod = sm.OLS(Y,sm.add_constant(pd.concat([pd.Series(T),pd.Series(X)],axis=1)))\n",
    "        res = mod.fit()\n",
    "        \n",
    "        return res.params\n",
    "    \n",
    "    def Monte_Sim(self,B1,B2,B3,n,sigma):\n",
    "        \n",
    "        treatment_effect = []\n",
    "        bias = []\n",
    "        RMSE = []\n",
    "        for rep in range(self.n_rep):\n",
    "            Y,T,X = self.simulate_data(B1,B2,B3,n,sigma)\n",
    "            B1_hat,B2_hat,B3_hat = self.estimate_ols_params(Y,T,X)\n",
    "            y_hat = B1_hat + B2_hat * T + B3_hat*X\n",
    "            treatment_effect = treatment_effect + [B2_hat]\n",
    "            bias = bias + [np.mean(Y[T==1])-np.mean(Y[T==0])]\n",
    "            RMSE = RMSE + [np.sqrt(np.mean((Y-y_hat)**2))]\n",
    "        return bias, RMSE, treatment_effect\n",
    "    \n",
    "    def summarize_mc_simulation(self,B1,B2,B3,n,sigma):\n",
    "        bias, RMSE, treatment_effect = self.Monte_Sim(B1,B2,B3,n,sigma)\n",
    "        return [np.mean(bias),np.mean(RMSE),np.mean(treatment_effect)]"
   ]
  },
  {
   "cell_type": "code",
   "execution_count": 110,
   "id": "47208fe3",
   "metadata": {},
   "outputs": [
    {
     "name": "stderr",
     "output_type": "stream",
     "text": [
      "/opt/anaconda3/lib/python3.9/site-packages/statsmodels/tsa/tsatools.py:142: FutureWarning: In a future version of pandas all arguments of concat except for the argument 'objs' will be keyword-only\n",
      "  x = pd.concat(x[::order], 1)\n"
     ]
    },
    {
     "data": {
      "text/html": [
       "<div>\n",
       "<style scoped>\n",
       "    .dataframe tbody tr th:only-of-type {\n",
       "        vertical-align: middle;\n",
       "    }\n",
       "\n",
       "    .dataframe tbody tr th {\n",
       "        vertical-align: top;\n",
       "    }\n",
       "\n",
       "    .dataframe thead tr th {\n",
       "        text-align: left;\n",
       "    }\n",
       "</style>\n",
       "<table border=\"1\" class=\"dataframe\">\n",
       "  <thead>\n",
       "    <tr>\n",
       "      <th></th>\n",
       "      <th>N=100</th>\n",
       "      <th>N=1000</th>\n",
       "    </tr>\n",
       "  </thead>\n",
       "  <tbody>\n",
       "    <tr>\n",
       "      <th>bias</th>\n",
       "      <td>0.936291</td>\n",
       "      <td>0.921936</td>\n",
       "    </tr>\n",
       "    <tr>\n",
       "      <th>RMSE</th>\n",
       "      <td>4.556183</td>\n",
       "      <td>4.629594</td>\n",
       "    </tr>\n",
       "    <tr>\n",
       "      <th>treatment effect</th>\n",
       "      <td>0.937753</td>\n",
       "      <td>0.922017</td>\n",
       "    </tr>\n",
       "  </tbody>\n",
       "</table>\n",
       "</div>"
      ],
      "text/plain": [
       "                     N=100    N=1000\n",
       "bias              0.936291  0.921936\n",
       "RMSE              4.556183  4.629594\n",
       "treatment effect  0.937753  0.922017"
      ]
     },
     "execution_count": 110,
     "metadata": {},
     "output_type": "execute_result"
    }
   ],
   "source": [
    "N_100 = MC_Simulator_3a(10000)\n",
    "res_100 = N_100.summarize_mc_simulation(1,1,1,100,1)\n",
    "N_1000 = MC_Simulator_3a(10000)\n",
    "res_1000 = N_1000.summarize_mc_simulation(1,1,1,1000,1)\n",
    "res = pd.concat([pd.Series(res_100),pd.Series(res_1000)],axis = 1)\n",
    "res.columns = [['N=100','N=1000']]\n",
    "res.index = [['bias','RMSE','treatment effect']]\n",
    "res"
   ]
  },
  {
   "cell_type": "markdown",
   "id": "dc13eb3d",
   "metadata": {},
   "source": [
    "##  3b. You do not control for the variable in between the path from cause to effect"
   ]
  },
  {
   "cell_type": "code",
   "execution_count": 118,
   "id": "a547703c",
   "metadata": {},
   "outputs": [],
   "source": [
    "class MC_Simulator_3b():\n",
    "    \n",
    "    def __init__(self,n_rep):\n",
    "        \"\"\"\n",
    "        n_rep: number of MC replications\n",
    "        \"\"\"\n",
    "        self.n_rep = n_rep\n",
    "    def simulate_data(self, B1, B2, n,sigma):\n",
    "        \"\"\"\n",
    "        B1: intercept\n",
    "        B2: slope of treatment dummy variable\n",
    "        n: sample size\n",
    "        sigma: error variance\n",
    "        Y = a+b*T+e\n",
    "        \"\"\"\n",
    "        T = np.random.binomial(1, 0.5, n)\n",
    "        Y = np.random.normal(1 + 1*T, 5).astype(int)\n",
    "        X = np.random.normal(1+ np.mean(T)*np.mean(Y),5,n)\n",
    "        \n",
    "        return (Y,T)    \n",
    "    \n",
    "    def estimate_ols_params(self,Y,T):\n",
    "        mod = sm.OLS(Y,sm.add_constant(T))\n",
    "        res = mod.fit()\n",
    "        \n",
    "        return res.params\n",
    "    \n",
    "    def Monte_Sim(self,B1,B2,n,sigma):\n",
    "        \n",
    "        treatment_effect = []\n",
    "        bias = []\n",
    "        RMSE = []\n",
    "        for rep in range(self.n_rep):\n",
    "            Y,T = self.simulate_data(B1,B2,n,sigma)\n",
    "            B1_hat,B2_hat = self.estimate_ols_params(Y,T)\n",
    "            y_hat = B1_hat + B2_hat * T\n",
    "            treatment_effect = treatment_effect + [B2_hat]\n",
    "            bias = bias + [np.mean(Y[T==1])-np.mean(Y[T==0])]\n",
    "            RMSE = RMSE + [np.sqrt(np.mean((Y-y_hat)**2))]\n",
    "        return bias, RMSE, treatment_effect\n",
    "    \n",
    "    def summarize_mc_simulation(self,B1,B2,n,sigma):\n",
    "        bias, RMSE, treatment_effect = self.Monte_Sim(B1,B2,n,sigma)\n",
    "        return [np.mean(bias),np.mean(RMSE),np.mean(treatment_effect)]\n",
    "\n"
   ]
  },
  {
   "cell_type": "code",
   "execution_count": 119,
   "id": "c1d3b296",
   "metadata": {},
   "outputs": [
    {
     "data": {
      "text/html": [
       "<div>\n",
       "<style scoped>\n",
       "    .dataframe tbody tr th:only-of-type {\n",
       "        vertical-align: middle;\n",
       "    }\n",
       "\n",
       "    .dataframe tbody tr th {\n",
       "        vertical-align: top;\n",
       "    }\n",
       "\n",
       "    .dataframe thead tr th {\n",
       "        text-align: left;\n",
       "    }\n",
       "</style>\n",
       "<table border=\"1\" class=\"dataframe\">\n",
       "  <thead>\n",
       "    <tr>\n",
       "      <th></th>\n",
       "      <th>N=100</th>\n",
       "      <th>N=1000</th>\n",
       "    </tr>\n",
       "  </thead>\n",
       "  <tbody>\n",
       "    <tr>\n",
       "      <th>bias</th>\n",
       "      <td>0.923282</td>\n",
       "      <td>0.923429</td>\n",
       "    </tr>\n",
       "    <tr>\n",
       "      <th>RMSE</th>\n",
       "      <td>4.576494</td>\n",
       "      <td>4.634170</td>\n",
       "    </tr>\n",
       "    <tr>\n",
       "      <th>treatment effect</th>\n",
       "      <td>0.923282</td>\n",
       "      <td>0.923429</td>\n",
       "    </tr>\n",
       "  </tbody>\n",
       "</table>\n",
       "</div>"
      ],
      "text/plain": [
       "                     N=100    N=1000\n",
       "bias              0.923282  0.923429\n",
       "RMSE              4.576494  4.634170\n",
       "treatment effect  0.923282  0.923429"
      ]
     },
     "execution_count": 119,
     "metadata": {},
     "output_type": "execute_result"
    }
   ],
   "source": [
    "N_100 = MC_Simulator_3b(10000)\n",
    "res_100 = N_100.summarize_mc_simulation(1,1,100,1)\n",
    "N_1000 = MC_Simulator_3b(10000)\n",
    "res_1000 = N_1000.summarize_mc_simulation(1,1,1000,1)\n",
    "res = pd.concat([pd.Series(res_100),pd.Series(res_1000)],axis = 1)\n",
    "res.columns = [['N=100','N=1000']]\n",
    "res.index = [['bias','RMSE','treatment effect']]\n",
    "res"
   ]
  },
  {
   "cell_type": "markdown",
   "id": "55511622",
   "metadata": {},
   "source": [
    "Selection Bias Real World Example:\n",
    "\n",
    "- X: Hospitalization\n",
    "- T: Age\n",
    "- Y: Lung Disease\n",
    "\n",
    "Age Influences both the rates of hospitalization as well as. the rates of lung disease leading to hospitalization. "
   ]
  },
  {
   "cell_type": "code",
   "execution_count": null,
   "id": "80eecac6",
   "metadata": {},
   "outputs": [],
   "source": []
  }
 ],
 "metadata": {
  "kernelspec": {
   "display_name": "Python 3 (ipykernel)",
   "language": "python",
   "name": "python3"
  },
  "language_info": {
   "codemirror_mode": {
    "name": "ipython",
    "version": 3
   },
   "file_extension": ".py",
   "mimetype": "text/x-python",
   "name": "python",
   "nbconvert_exporter": "python",
   "pygments_lexer": "ipython3",
   "version": "3.9.7"
  }
 },
 "nbformat": 4,
 "nbformat_minor": 5
}
